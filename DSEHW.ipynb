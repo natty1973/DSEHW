{
 "cells": [
  {
   "cell_type": "code",
   "execution_count": 1,
   "metadata": {},
   "outputs": [],
   "source": [
    "import matplotlib.pyplot as plt\n",
    "%matplotlib inline\n",
    "from numpy.random import seed\n",
    "import pandas as pd\n",
    "import numpy as np\n",
    "from matplotlib.colors import ListedColormap\n",
    "from matplotlib import rcParams\n",
    "from sklearn.model_selection import train_test_split\n",
    "from DSEHW import Perceptron\n",
    "from DSEHW import Logistic\n",
    "\n",
    "from sklearn.datasets import make_blobs\n",
    "from sklearn.metrics import classification_report\n",
    "\n",
    "\n",
    "\n"
   ]
  },
  {
   "cell_type": "code",
   "execution_count": null,
   "metadata": {},
   "outputs": [],
   "source": [
    "pip install Perceptron\n"
   ]
  },
  {
   "cell_type": "code",
   "execution_count": 2,
   "metadata": {},
   "outputs": [],
   "source": [
    "from matplotlib.colors import ListedColormap\n",
    "def plot_decision_regions(X, y, classifier, resolution=0.02):\n",
    "    # setup marker generator and color map\n",
    "    markers = ('s', 'x', 'o', '^', 'v')\n",
    "    colors = ('red', 'blue', 'lightgreen', 'gray', 'cyan')\n",
    "    cmap = ListedColormap(colors[:len(np.unique(y))])\n",
    "    \n",
    "    # plot the decision surface\n",
    "    x1_min, x1_max = X[:, 0].min() - 1, X[:, 0].max() + 1\n",
    "    x2_min, x2_max = X[:, 1].min() - 1, X[:, 1].max() + 1\n",
    "    xx1, xx2 = np.meshgrid(np.arange(x1_min, x1_max, resolution),\n",
    "                           np.arange(x2_min, x2_max, resolution))\n",
    "    Z = classifier.predict(np.array([xx1.ravel(), xx2.ravel()]).T)\n",
    "    Z = Z.reshape(xx1.shape)\n",
    "    plt.contourf(xx1, xx2, Z, alpha=0.3, cmap=cmap)\n",
    "    plt.xlim(xx1.min(), xx1.max())\n",
    "    plt.ylim(xx2.min(), xx2.max())\n",
    "    \n",
    "    # plot class examples\n",
    "    for idx, cl in enumerate(np.unique(y)):\n",
    "         plt.scatter(x=X[y == cl, 0],\n",
    "                     y=X[y == cl, 1],\n",
    "                     alpha=0.8,\n",
    "                     c=colors[idx],\n",
    "                     marker=markers[idx],\n",
    "                     label=cl,\n",
    "                     edgecolor='black')"
   ]
  },
  {
   "cell_type": "code",
   "execution_count": 3,
   "metadata": {},
   "outputs": [
    {
     "ename": "TypeError",
     "evalue": "'module' object is not callable",
     "output_type": "error",
     "traceback": [
      "\u001b[1;31m---------------------------------------------------------------------------\u001b[0m",
      "\u001b[1;31mTypeError\u001b[0m                                 Traceback (most recent call last)",
      "\u001b[1;32m<ipython-input-3-cfd1f39fa86e>\u001b[0m in \u001b[0;36m<module>\u001b[1;34m\u001b[0m\n\u001b[1;32m----> 1\u001b[1;33m \u001b[0mPerceptron\u001b[0m\u001b[1;33m(\u001b[0m\u001b[0mlearning_rate\u001b[0m\u001b[1;33m=\u001b[0m\u001b[1;36m0.1\u001b[0m\u001b[1;33m,\u001b[0m \u001b[0mrandom_state\u001b[0m\u001b[1;33m=\u001b[0m\u001b[1;36m42\u001b[0m\u001b[1;33m,\u001b[0m \u001b[0minitial_weight\u001b[0m\u001b[1;33m=\u001b[0m\u001b[1;32mNone\u001b[0m\u001b[1;33m)\u001b[0m\u001b[1;33m\u001b[0m\u001b[1;33m\u001b[0m\u001b[0m\n\u001b[0m\u001b[0;32m      2\u001b[0m \u001b[1;33m\u001b[0m\u001b[0m\n\u001b[0;32m      3\u001b[0m \u001b[1;31m#Logistic(learning_rate=0.1, random_state=42, initial_weight=None)\u001b[0m\u001b[1;33m\u001b[0m\u001b[1;33m\u001b[0m\u001b[1;33m\u001b[0m\u001b[0m\n\u001b[0;32m      4\u001b[0m \u001b[1;33m\u001b[0m\u001b[0m\n\u001b[0;32m      5\u001b[0m \u001b[1;31m#hypertan = HyperTan(learning_rate=0.1, random_state=42, initial_weight=None)\u001b[0m\u001b[1;33m\u001b[0m\u001b[1;33m\u001b[0m\u001b[1;33m\u001b[0m\u001b[0m\n",
      "\u001b[1;31mTypeError\u001b[0m: 'module' object is not callable"
     ]
    }
   ],
   "source": [
    "Perceptron(learning_rate=0.1, random_state=42, initial_weight=None)\n",
    "\n",
    "#Logistic(learning_rate=0.1, random_state=42, initial_weight=None)\n",
    "\n",
    "#hypertan = HyperTan(learning_rate=0.1, random_state=42, initial_weight=None)\n"
   ]
  },
  {
   "cell_type": "code",
   "execution_count": null,
   "metadata": {},
   "outputs": [],
   "source": [
    "\n",
    "A, a = make_blobs(n_samples=250, n_features=2, cluster_std=0.125, center_box=(-1, -1), random_state=42)\n",
    "B, b = make_blobs(n_samples=250, n_features=2, cluster_std=0.125, center_box=(1, 1), random_state=42)\n",
    "\n",
    "a = np.where(a ==0, -1, 1) \n",
    "b = np.where(b ==0, 1, -1) \n",
    "separated_blob_data = np.vstack([A, B])\n",
    "separated_blob_label = np.hstack([a, b])\n",
    "\n",
    "X_train, X_test, y_train, y_test = train_test_split(\n",
    "            separated_blob_data, separated_blob_label, test_size=0.20, random_state=42)\n",
    "\n",
    "perceptron.fit(X_train, y_train)\n",
    "Y_hat = perceptron.predict(X_test)\n",
    "print(classification_report(y_test, Y_hat))"
   ]
  },
  {
   "cell_type": "code",
   "execution_count": null,
   "metadata": {},
   "outputs": [],
   "source": [
    "plot_decision_regions(X_train, y_train, classifier=perceptron)\n",
    "plt.xlabel('Column 1')\n",
    "plt.ylabel('Column 2')\n",
    "plt.title('Two blobs Well Separated With perceptron ')\n",
    "plt.legend(loc='upper left')\n",
    "plt.show()"
   ]
  },
  {
   "cell_type": "code",
   "execution_count": null,
   "metadata": {},
   "outputs": [],
   "source": [
    "perceptron.fit(X_train, y_train)\n",
    "plt.plot(range(1, len(perceptron.errors_) + 1), perceptron.errors_, marker='o')\n",
    "plt.xlabel('Epochs')\n",
    "plt.ylabel('Number of updates')\n",
    "plt.show()"
   ]
  },
  {
   "cell_type": "code",
   "execution_count": null,
   "metadata": {},
   "outputs": [],
   "source": [
    "\n",
    "A, a = make_blobs(n_samples=250, n_features=2, cluster_std=0.125, center_box=(-1, -1), random_state=42)\n",
    "B, b = make_blobs(n_samples=250, n_features=2, cluster_std=0.125, center_box=(1, 1), random_state=42)\n",
    "\n",
    "a = np.where(a ==0, -1, 1) \n",
    "b = np.where(b ==0, 1, -1) \n",
    "separated_blob_data = np.vstack([A, B])\n",
    "separated_blob_label = np.hstack([a, b])\n",
    "\n",
    "X_train, X_test, y_train, y_test = train_test_split(\n",
    "            separated_blob_data, separated_blob_label, test_size=0.20, random_state=42)\n",
    "\n",
    "logistic.fit(X_train, y_train)\n",
    "Y_hat = logistic.predict(X_test)\n",
    "print(classification_report(y_test, Y_hat))"
   ]
  },
  {
   "cell_type": "code",
   "execution_count": null,
   "metadata": {},
   "outputs": [],
   "source": [
    "plot_decision_regions(X_train, y_train, classifier=logistic)\n",
    "plt.xlabel('Column 1')\n",
    "plt.ylabel('Column 2')\n",
    "plt.title('Two blobs Well Separated With Logistic ')\n",
    "plt.legend(loc='upper left')\n",
    "plt.show()"
   ]
  },
  {
   "cell_type": "code",
   "execution_count": null,
   "metadata": {},
   "outputs": [],
   "source": [
    "logistic.fit(X_train, y_train)\n",
    "plt.plot(range(1, 11), logistic.cost_, marker='o')\n",
    "#plt.plot(logistic.cost_)\n",
    "plt.xlabel('Epochs')\n",
    "plt.ylabel('Number of updates')\n",
    "plt.show()"
   ]
  },
  {
   "cell_type": "code",
   "execution_count": null,
   "metadata": {},
   "outputs": [],
   "source": [
    "A, a = make_blobs(n_samples=250, n_features=2, cluster_std=0.125, center_box=(-1, -1), random_state=42)\n",
    "B, b = make_blobs(n_samples=250, n_features=2, cluster_std=0.125, center_box=(1, 1), random_state=42)\n",
    "\n",
    "a = np.where(a ==0, -1, 1) \n",
    "b = np.where(b ==0, 1, -1) \n",
    "separated_blob_data = np.vstack([A, B])\n",
    "separated_blob_label = np.hstack([a, b])\n",
    "\n",
    "X_train, X_test, y_train, y_test = train_test_split(\n",
    "            separated_blob_data, separated_blob_label, test_size=0.20, random_state=42)\n",
    "\n",
    "hypertan.fit(X_train, y_train)\n",
    "Y_hat = hypertan.predict(X_test)\n",
    "print(classification_report(y_test, Y_hat))"
   ]
  },
  {
   "cell_type": "code",
   "execution_count": null,
   "metadata": {},
   "outputs": [],
   "source": [
    "plot_decision_regions(X_train, y_train, classifier=hypertan)\n",
    "plt.xlabel('Column 1')\n",
    "plt.ylabel('Column 2')\n",
    "plt.title('Two blobs Well Separated With Hypertan ')\n",
    "plt.legend(loc='upper left')\n",
    "plt.show()"
   ]
  },
  {
   "cell_type": "code",
   "execution_count": null,
   "metadata": {},
   "outputs": [],
   "source": [
    "hypertan.fit(X_train, y_train)\n",
    "plt.plot(range(1, len(hypertan.errors_) + 1), hypertan.errors_, marker='o')\n",
    "plt.xlabel('Epochs')\n",
    "plt.ylabel('Number of updates')\n",
    "plt.show()"
   ]
  },
  {
   "cell_type": "code",
   "execution_count": null,
   "metadata": {},
   "outputs": [],
   "source": [
    "A, a = make_blobs(n_samples=250, n_features=2, cluster_std=4, center_box=(-1, -1), random_state=42)\n",
    "B, b = make_blobs(n_samples=250, n_features=2, cluster_std=5, center_box=(1, 1), random_state=42)\n",
    "\n",
    "a = np.where(a ==0, -1, 1) \n",
    "b = np.where(b ==0, 1, -1) \n",
    "separated_blob_data = np.vstack([A, B])\n",
    "separated_blob_label = np.hstack([a, b])\n",
    "\n",
    "X_train, X_test, y_train, y_test = train_test_split(\n",
    "            separated_blob_data, separated_blob_label, test_size=0.20, random_state=42)\n",
    "\n",
    "perceptron.fit(X_train, y_train)\n",
    "Y_hat = perceptron.predict(X_test)\n",
    "print(classification_report(y_test, Y_hat))"
   ]
  },
  {
   "cell_type": "code",
   "execution_count": null,
   "metadata": {},
   "outputs": [],
   "source": [
    "perceptron.fit(X_train, y_train)\n",
    "plt.plot(range(1, len(perceptron.errors_) + 1), perceptron.errors_, marker='o')\n",
    "plt.xlabel('Epochs')\n",
    "plt.ylabel('Number of updates')\n",
    "plt.show()"
   ]
  },
  {
   "cell_type": "code",
   "execution_count": null,
   "metadata": {},
   "outputs": [],
   "source": [
    "A, a = make_blobs(n_samples=250, n_features=2, cluster_std=4, center_box=(-1, -1), random_state=42)\n",
    "B, b = make_blobs(n_samples=250, n_features=2, cluster_std=5, center_box=(1, 1), random_state=42)\n",
    "\n",
    "a = np.where(a ==0, -1, 1) \n",
    "b = np.where(b ==0, 1, -1) \n",
    "separated_blob_data = np.vstack([A, B])\n",
    "separated_blob_label = np.hstack([a, b])\n",
    "\n",
    "X_train, X_test, y_train, y_test = train_test_split(\n",
    "            separated_blob_data, separated_blob_label, test_size=0.20, random_state=42)\n",
    "\n",
    "logistic.fit(X_train, y_train)\n",
    "Y_hat = logistic.predict(X_test)\n",
    "print(classification_report(y_test, Y_hat))"
   ]
  },
  {
   "cell_type": "code",
   "execution_count": null,
   "metadata": {},
   "outputs": [],
   "source": [
    "logistic.fit(X_train, y_train)\n",
    "plt.plot(range(1, len(logistic.errors_) + 1), logistic.errors_, marker='o')\n",
    "plt.xlabel('Epochs')\n",
    "plt.ylabel('Number of updates')\n",
    "plt.show()"
   ]
  },
  {
   "cell_type": "code",
   "execution_count": null,
   "metadata": {},
   "outputs": [],
   "source": [
    "A, a = make_blobs(n_samples=250, n_features=2, cluster_std=4, center_box=(-1, -1), random_state=42)\n",
    "B, b = make_blobs(n_samples=250, n_features=2, cluster_std=5, center_box=(1, 1), random_state=42)\n",
    "\n",
    "a = np.where(a ==0, -1, 1) \n",
    "b = np.where(b ==0, 1, -1) \n",
    "separated_blob_data = np.vstack([A, B])\n",
    "separated_blob_label = np.hstack([a, b])\n",
    "\n",
    "X_train, X_test, y_train, y_test = train_test_split(\n",
    "            separated_blob_data, separated_blob_label, test_size=0.20, random_state=42)\n",
    "\n",
    "hpertan.fit(X_train, y_train)\n",
    "Y_hat = hypertan.predict(X_test)\n",
    "print(classification_report(y_test, Y_hat))"
   ]
  },
  {
   "cell_type": "code",
   "execution_count": null,
   "metadata": {},
   "outputs": [],
   "source": [
    "hypertan.fit(X_train, y_train)\n",
    "plt.plot(range(1, len(hypertan.errors_) + 1), hypertan.errors_, marker='o')\n",
    "plt.xlabel('Epochs')\n",
    "plt.ylabel('Number of updates')\n",
    "plt.show()"
   ]
  },
  {
   "cell_type": "code",
   "execution_count": null,
   "metadata": {},
   "outputs": [],
   "source": [
    "A2, a = make_circles(n_samples=500, random_state=30, factor = 0.99)\n",
    "B2, b = make_blobs(n_samples=500, center_box = (0,0), n_features = 2, cluster_std=1/8, random_state=30)\n",
    "\n",
    "a = np.where(a ==0, -1, 1) \n",
    "b = np.where(b ==0, 1, -1) \n",
    "separated_blob_data = np.vstack([A, B])\n",
    "separated_blob_label = np.hstack([a, b])\n",
    "\n",
    "X_train, X_test, y_train, y_test = train_test_split(\n",
    "            separated_blob_data, separated_blob_label, test_size=0.20, random_state=42)\n",
    "\n",
    "logistic.fit(X_train, y_train)\n",
    "Y_hat = logistic.predict(X_test)\n",
    "print(classification_report(y_test, Y_hat))"
   ]
  },
  {
   "cell_type": "code",
   "execution_count": null,
   "metadata": {},
   "outputs": [],
   "source": [
    "plot_decision_regions(X_train, y_train, classifier=logistic)\n",
    "plt.xlabel('Column 1')\n",
    "plt.ylabel('Column 2')\n",
    "plt.title('BLOB and a CIRCLE With Logistic ')\n",
    "plt.legend(loc='upper left')\n",
    "plt.show()"
   ]
  },
  {
   "cell_type": "code",
   "execution_count": null,
   "metadata": {},
   "outputs": [],
   "source": [
    "A2, a = make_circles(n_samples=500, random_state=30, factor = 0.99)\n",
    "B2, b = make_blobs(n_samples=500, center_box = (0,0), n_features = 2, cluster_std=1/8, random_state=30)\n",
    "\n",
    "a = np.where(a ==0, -1, 1) \n",
    "b = np.where(b ==0, 1, -1) \n",
    "separated_blob_data = np.vstack([A, B])\n",
    "separated_blob_label = np.hstack([a, b])\n",
    "\n",
    "X_train, X_test, y_train, y_test = train_test_split(\n",
    "            separated_blob_data, separated_blob_label, test_size=0.20, random_state=42)\n",
    "\n",
    "percetron.fit(X_train, y_train)\n",
    "Y_hat = perceptron.predict(X_test)\n",
    "print(classification_report(y_test, Y_hat))"
   ]
  },
  {
   "cell_type": "code",
   "execution_count": null,
   "metadata": {},
   "outputs": [],
   "source": [
    "plot_decision_regions(X_train, y_train, classifier=perceptron)\n",
    "plt.xlabel('Column 1')\n",
    "plt.ylabel('Column 2')\n",
    "plt.title('BLOB and a CIRCLE With perceptron ')\n",
    "plt.legend(loc='upper left')\n",
    "plt.show()"
   ]
  },
  {
   "cell_type": "code",
   "execution_count": null,
   "metadata": {},
   "outputs": [],
   "source": [
    "A2, a = make_circles(n_samples=500, random_state=30, factor = 0.99)\n",
    "B2, b = make_blobs(n_samples=500, center_box = (0,0), n_features = 2, cluster_std=1/8, random_state=30)\n",
    "\n",
    "a = np.where(a ==0, -1, 1) \n",
    "b = np.where(b ==0, 1, -1) \n",
    "separated_blob_data = np.vstack([A, B])\n",
    "separated_blob_label = np.hstack([a, b])\n",
    "\n",
    "X_train, X_test, y_train, y_test = train_test_split(\n",
    "            separated_blob_data, separated_blob_label, test_size=0.20, random_state=42)\n",
    "\n",
    "hypertan.fit(X_train, y_train)\n",
    "Y_hat = hypertan.predict(X_test)\n",
    "print(classification_report(y_test, Y_hat))"
   ]
  },
  {
   "cell_type": "code",
   "execution_count": null,
   "metadata": {},
   "outputs": [],
   "source": [
    "plot_decision_regions(X_train, y_train, classifier=hypertan)\n",
    "plt.xlabel('Column 1')\n",
    "plt.ylabel('Column 2')\n",
    "plt.title('BLOB and a CIRCLE With hypertan ')\n",
    "plt.legend(loc='upper left')\n",
    "plt.show()"
   ]
  }
 ],
 "metadata": {
  "kernelspec": {
   "display_name": "Python 3",
   "language": "python",
   "name": "python3"
  },
  "language_info": {
   "codemirror_mode": {
    "name": "ipython",
    "version": 3
   },
   "file_extension": ".py",
   "mimetype": "text/x-python",
   "name": "python",
   "nbconvert_exporter": "python",
   "pygments_lexer": "ipython3",
   "version": "3.7.4"
  }
 },
 "nbformat": 4,
 "nbformat_minor": 2
}
